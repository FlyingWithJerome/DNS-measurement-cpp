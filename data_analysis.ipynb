{
 "cells": [
  {
   "cell_type": "code",
   "execution_count": 1,
   "metadata": {
    "collapsed": false
   },
   "outputs": [],
   "source": [
    "import os.path\n",
    "from collections import Counter\n",
    "\n",
    "_FILE_PATH = os.path.expanduser(\"~/Desktop/mar_25\")"
   ]
  },
  {
   "cell_type": "code",
   "execution_count": 2,
   "metadata": {
    "collapsed": false,
    "scrolled": true
   },
   "outputs": [],
   "source": [
    "# read everything from the TCP server normal response\n",
    "with open(os.path.join(_FILE_PATH, \"tcp_server_normal_response.log\")) as tcp_server_response:\n",
    "    all_entries_tcp_normal = [line.strip().split(\",\") for line in tcp_server_response.readlines()]\n",
    " "
   ]
  },
  {
   "cell_type": "code",
   "execution_count": 4,
   "metadata": {
    "collapsed": false
   },
   "outputs": [
    {
     "name": "stdout",
     "output_type": "stream",
     "text": [
      "Number of Exclusive Resolver IPs: 4729\n",
      "Number of Exclusive Question IDs: 54066\n"
     ]
    }
   ],
   "source": [
    "exclusive_tcp_resolver_ips = set()\n",
    "exclusive_tcp_question_ids = set()\n",
    "\n",
    "for entry in all_entries_tcp_normal:\n",
    "    exclusive_tcp_resolver_ips.add(entry[1])\n",
    "    exclusive_tcp_question_ids.add(entry[0])\n",
    "    \n",
    "print(\"Number of Exclusive Resolver IPs:\", len(exclusive_tcp_resolver_ips))\n",
    "print(\"Number of Exclusive Question IDs:\", len(exclusive_tcp_question_ids))"
   ]
  },
  {
   "cell_type": "code",
   "execution_count": 5,
   "metadata": {
    "collapsed": true
   },
   "outputs": [],
   "source": [
    "with open(os.path.join(_FILE_PATH, \"udp_server_truncated_response.log\")) as udp_server_trunc:\n",
    "    all_entries_udp_serv_trunc = [line.strip().split(\",\") for line in udp_server_trunc.readlines()]"
   ]
  },
  {
   "cell_type": "code",
   "execution_count": 8,
   "metadata": {
    "collapsed": false
   },
   "outputs": [
    {
     "name": "stdout",
     "output_type": "stream",
     "text": [
      "Number of Exclusive Resolver IPs (UDP SERVER TRUNCATION): 4846\n",
      "Number of Exclusive Question IDs (UDP SERVER TRUNCATION): 55006\n"
     ]
    }
   ],
   "source": [
    "exclusive_udp_trunc_resolver_ips = set()\n",
    "exclusive_udp_trunc_question_ids = set()\n",
    "\n",
    "for entry in all_entries_udp_serv_trunc:\n",
    "    exclusive_udp_trunc_resolver_ips.add(entry[1])\n",
    "    exclusive_udp_trunc_question_ids.add(entry[0])\n",
    "    \n",
    "print(\"Number of Exclusive Resolver IPs (UDP SERVER TRUNCATION):\", len(exclusive_udp_trunc_resolver_ips))\n",
    "print(\"Number of Exclusive Question IDs (UDP SERVER TRUNCATION):\", len(exclusive_udp_trunc_question_ids))"
   ]
  },
  {
   "cell_type": "code",
   "execution_count": 10,
   "metadata": {
    "collapsed": false
   },
   "outputs": [
    {
     "name": "stdout",
     "output_type": "stream",
     "text": [
      "False\n",
      "True\n"
     ]
    }
   ],
   "source": [
    "print((exclusive_udp_trunc_resolver_ips & exclusive_tcp_resolver_ips) == exclusive_tcp_resolver_ips)\n",
    "print((exclusive_tcp_question_ids & exclusive_udp_trunc_question_ids) == exclusive_tcp_question_ids)"
   ]
  },
  {
   "cell_type": "code",
   "execution_count": 11,
   "metadata": {
    "collapsed": false
   },
   "outputs": [
    {
     "name": "stdout",
     "output_type": "stream",
     "text": [
      "4597\n"
     ]
    }
   ],
   "source": [
    "print(len((exclusive_udp_trunc_resolver_ips & exclusive_tcp_resolver_ips)))"
   ]
  },
  {
   "cell_type": "code",
   "execution_count": 12,
   "metadata": {
    "collapsed": false
   },
   "outputs": [
    {
     "name": "stdout",
     "output_type": "stream",
     "text": [
      "132\n"
     ]
    }
   ],
   "source": [
    "print(len(exclusive_tcp_resolver_ips - (exclusive_udp_trunc_resolver_ips & exclusive_tcp_resolver_ips)))"
   ]
  },
  {
   "cell_type": "code",
   "execution_count": null,
   "metadata": {
    "collapsed": true
   },
   "outputs": [],
   "source": []
  }
 ],
 "metadata": {
  "kernelspec": {
   "display_name": "Python 3",
   "language": "python",
   "name": "python3"
  },
  "language_info": {
   "codemirror_mode": {
    "name": "ipython",
    "version": 3
   },
   "file_extension": ".py",
   "mimetype": "text/x-python",
   "name": "python",
   "nbconvert_exporter": "python",
   "pygments_lexer": "ipython3",
   "version": "3.6.0"
  }
 },
 "nbformat": 4,
 "nbformat_minor": 1
}
